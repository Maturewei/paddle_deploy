{
 "cells": [
  {
   "cell_type": "markdown",
   "metadata": {},
   "source": [
    " # PaddlePickUp：让智能零售“看得清，数得明”项目\n",
    " 项目运行请参看 code.ipynb文件"
   ]
  },
  {
   "cell_type": "markdown",
   "metadata": {},
   "source": [
    "### [项目演示视频]\n",
    "[项目演示B站链接](http://)：https://www.bilibili.com/video/BV1HEs6zfEe5/?vd_source=2a9f9e9ee97d3fe23c73b1d8063912e7\n",
    "![](https://ai-studio-static-online.cdn.bcebos.com/a771d6798b634f5ba116080023d0a9614abd2d02de994655864aca24b1e29fb8)\n",
    "\n"
   ]
  },
  {
   "cell_type": "markdown",
   "metadata": {},
   "source": [
    "## 一、项目总体概述\n",
    "   本项目立足于“人工智能+”新零售的商业模式，创新性地将基于飞桨AI Studio星河社区平台的PP-YOLOE模型应用于智能售货柜商品拿取计数计费的实际生活场景，并针对现有基于视觉检测售货柜的订单问题较多现象，提出了全新的行为级检测方案和模型改进策略，完成了**视觉检测从识别商品到识别动作**的转变，显著提升了模型检测的准确率，提高了用户的购物体验并且降低了供货商的经营成本。"
   ]
  },
  {
   "cell_type": "markdown",
   "metadata": {},
   "source": [
    "## 二、选题说明\n",
    "1. 国家政策：\n",
    "    国务院印发《关于深入实施“人工智能+”行动的意见》强调通过AI赋能实体经济，提升全要素生产率，创造新的增长点。我们的项目正是瞄准了文件中指出的“以用户为中心的智慧赋能”，致力于将政策要求转化为实际生产力。\n",
    "2. 社会需求：\n",
    "   中国报告大厅《2025-2030年中国无人售货机行业市场调查研究及投资前景分析报告》指出，全球无人售货机市场规模在2022年已经达到了约150亿美元，并预计到2025年将超过200亿美元。在中国，无人售货机行业市场规模同样表现强劲。随着互联网、物联网等新技术的快速发展，无人售货机行业得到了极大的推动。据统计，2024年中国无人售货机市场交易规模达到了1000亿元，同比增长约30%。\n",
    "3. 售货柜的演进历程 \n",
    "![](https://ai-studio-static-online.cdn.bcebos.com/0f6691cd8e4b4328bf8cb8ceb0e0bd838f4f06e6f87c4ff4aed4fa655ab69d9d)\n",
    "\n"
   ]
  },
  {
   "cell_type": "markdown",
   "metadata": {},
   "source": [
    "## 三、项目内容\n",
    "### 3.1 创新点\n",
    "1. 硬件提升。采用双柜门+挡板的设计，使得用户购物更便捷，供货商补货更方便、成本更低。\n",
    "2. 行为级检测方案。从识别商品到识别动作，大大提高了识别的准确率，减少了问题订单的出现。\n",
    "3. 项目覆盖场景全面。本项目综合考虑到单人拿取、双人同取、白天夜间、拿取放回等多种情况，数据集覆盖多种现实场景，可以很好地落地应用。\n",
    "### 3.2 技术路线\n",
    "1. 数据集构建：数据集采集于河南智售宝科技有限公司。为了丰富数据集，我们的采集工作长达6个月之久。通过专用摄像设备进行数据采集，并对数据进行分帧处理及标注。现有数据共7533张，还在增加夜间、多人拿取相关数据。数据集标注标签分为两大类，一类为人员相关类标签，一类为挡板颜色类标签。\n",
    "\n",
    "| 人员相关类标签 | 挡板颜色类标签 |  | | |\n",
    "| -------- | -------- | -------- | -------- | -------- |\n",
    "| hand    | argent    | yellow  | black| scarlet|\n",
    "| arm    | green   | grey   |red| blue|\n",
    "| handGoods    | orange     | cyan  |purple |darkBlue|\n",
    "\n",
    "2. 手部出现帧序列分析。不同情况帧序列计数基本逻辑：先出现arm后出现handGoods记为正数，意为拿取。先出现handGoods后出现arm记为负数，意为放回。（具体判定及容错请关注下面的算法流程设计与有限状态逻辑相关内容）\n",
    "![](https://ai-studio-static-online.cdn.bcebos.com/3c36bec0d7174882ad581b30482236a1aeb82239433e4aa3b3f44a25d465cdc7)\n",
    "```\n",
    "# 主要代码\n",
    "\n",
    "```"
   ]
  },
  {
   "cell_type": "markdown",
   "metadata": {},
   "source": [
    "3. 算法识别流程：\n",
    "![](https://ai-studio-static-online.cdn.bcebos.com/a9536cbc78e54080a1a3b3a192b5f14d4d8e42724a804353be7220984f5abbdc)\n",
    "4. \n",
    "![](https://ai-studio-static-online.cdn.bcebos.com/817022f3bf5840cd8a917cda9ec17d0f25f2302892a44120bdaf9483243f4843)\n",
    "\n"
   ]
  },
  {
   "cell_type": "markdown",
   "metadata": {},
   "source": [
    "## 四、项目应用场景\n",
    "![](https://ai-studio-static-online.cdn.bcebos.com/321b366eefe842d7b482ef03aaca994f9533f3c8eb8f4334b252bc06db31089e)\n"
   ]
  }
 ],
 "metadata": {
  "kernelspec": {
   "display_name": "Python 3",
   "language": "python",
   "name": "py35-paddle1.2.0"
  },
  "language_info": {
   "codemirror_mode": {
    "name": "ipython",
    "version": 3
   },
   "file_extension": ".py",
   "mimetype": "text/x-python",
   "name": "python",
   "nbconvert_exporter": "python",
   "pygments_lexer": "ipython3",
   "version": "3.10.10"
  }
 },
 "nbformat": 4,
 "nbformat_minor": 4
}
